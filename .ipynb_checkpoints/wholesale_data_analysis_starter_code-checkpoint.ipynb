{
 "cells": [
  {
   "cell_type": "markdown",
   "id": "dc0318d6",
   "metadata": {},
   "source": [
    "## Part 1: Explore the Data\n",
    "\n",
    "Import the data and use Pandas to learn more about the dataset."
   ]
  },
  {
   "cell_type": "code",
   "execution_count": 1,
   "id": "e076f57f",
   "metadata": {},
   "outputs": [
    {
     "data": {
      "text/html": [
       "<div>\n",
       "<style scoped>\n",
       "    .dataframe tbody tr th:only-of-type {\n",
       "        vertical-align: middle;\n",
       "    }\n",
       "\n",
       "    .dataframe tbody tr th {\n",
       "        vertical-align: top;\n",
       "    }\n",
       "\n",
       "    .dataframe thead th {\n",
       "        text-align: right;\n",
       "    }\n",
       "</style>\n",
       "<table border=\"1\" class=\"dataframe\">\n",
       "  <thead>\n",
       "    <tr style=\"text-align: right;\">\n",
       "      <th></th>\n",
       "      <th>first</th>\n",
       "      <th>last</th>\n",
       "      <th>job</th>\n",
       "      <th>phone</th>\n",
       "      <th>email</th>\n",
       "      <th>client_id</th>\n",
       "      <th>order_id</th>\n",
       "      <th>order_date</th>\n",
       "      <th>order_week</th>\n",
       "      <th>order_year</th>\n",
       "      <th>item_id</th>\n",
       "      <th>category</th>\n",
       "      <th>subcategory</th>\n",
       "      <th>unit_price</th>\n",
       "      <th>unit_cost</th>\n",
       "      <th>unit_weight</th>\n",
       "      <th>qty</th>\n",
       "      <th>line_number</th>\n",
       "    </tr>\n",
       "  </thead>\n",
       "  <tbody>\n",
       "    <tr>\n",
       "      <th>0</th>\n",
       "      <td>Donald</td>\n",
       "      <td>Harding</td>\n",
       "      <td>Immunologist</td>\n",
       "      <td>793-904-7725x39308</td>\n",
       "      <td>harding.donald.7185@sullivan.com</td>\n",
       "      <td>58515</td>\n",
       "      <td>8953482</td>\n",
       "      <td>2023-04-28</td>\n",
       "      <td>17</td>\n",
       "      <td>2023</td>\n",
       "      <td>EUD29711-63-6U</td>\n",
       "      <td>decor</td>\n",
       "      <td>wall art</td>\n",
       "      <td>1096.80</td>\n",
       "      <td>762.71</td>\n",
       "      <td>7.50</td>\n",
       "      <td>105</td>\n",
       "      <td>1</td>\n",
       "    </tr>\n",
       "    <tr>\n",
       "      <th>1</th>\n",
       "      <td>Tiffany</td>\n",
       "      <td>Myers</td>\n",
       "      <td>Music therapist</td>\n",
       "      <td>201.442.4543x942</td>\n",
       "      <td>myers.t.6537@ferguson-johnson.net</td>\n",
       "      <td>37609</td>\n",
       "      <td>8069089</td>\n",
       "      <td>2023-05-19</td>\n",
       "      <td>20</td>\n",
       "      <td>2023</td>\n",
       "      <td>XDA18116-89-4A</td>\n",
       "      <td>consumables</td>\n",
       "      <td>pens</td>\n",
       "      <td>24.95</td>\n",
       "      <td>15.09</td>\n",
       "      <td>1.49</td>\n",
       "      <td>21</td>\n",
       "      <td>0</td>\n",
       "    </tr>\n",
       "    <tr>\n",
       "      <th>2</th>\n",
       "      <td>Shannon</td>\n",
       "      <td>Watson</td>\n",
       "      <td>Immunologist</td>\n",
       "      <td>687.737.9424x8503</td>\n",
       "      <td>swatson8146@payne.net</td>\n",
       "      <td>57113</td>\n",
       "      <td>1902144</td>\n",
       "      <td>2023-01-29</td>\n",
       "      <td>4</td>\n",
       "      <td>2023</td>\n",
       "      <td>ABE59463-05-7E</td>\n",
       "      <td>software</td>\n",
       "      <td>project management</td>\n",
       "      <td>13.52</td>\n",
       "      <td>7.86</td>\n",
       "      <td>1.68</td>\n",
       "      <td>39</td>\n",
       "      <td>6</td>\n",
       "    </tr>\n",
       "    <tr>\n",
       "      <th>3</th>\n",
       "      <td>Nathan</td>\n",
       "      <td>Baker</td>\n",
       "      <td>Accounting technician</td>\n",
       "      <td>827-788-8123x012</td>\n",
       "      <td>bakernathan@benson.com</td>\n",
       "      <td>46554</td>\n",
       "      <td>9031802</td>\n",
       "      <td>2023-04-25</td>\n",
       "      <td>17</td>\n",
       "      <td>2023</td>\n",
       "      <td>ZMM00836-65-0C</td>\n",
       "      <td>consumables</td>\n",
       "      <td>pens</td>\n",
       "      <td>36.42</td>\n",
       "      <td>24.85</td>\n",
       "      <td>1.23</td>\n",
       "      <td>29</td>\n",
       "      <td>3</td>\n",
       "    </tr>\n",
       "    <tr>\n",
       "      <th>4</th>\n",
       "      <td>Christina</td>\n",
       "      <td>Schwartz</td>\n",
       "      <td>Chiropractor</td>\n",
       "      <td>265-829-3643</td>\n",
       "      <td>christinaschwartz9252@mcconnell.com</td>\n",
       "      <td>92089</td>\n",
       "      <td>1322274</td>\n",
       "      <td>2023-05-28</td>\n",
       "      <td>21</td>\n",
       "      <td>2023</td>\n",
       "      <td>BZX55559-12-3X</td>\n",
       "      <td>consumables</td>\n",
       "      <td>misc</td>\n",
       "      <td>195.10</td>\n",
       "      <td>108.17</td>\n",
       "      <td>46.43</td>\n",
       "      <td>20</td>\n",
       "      <td>1</td>\n",
       "    </tr>\n",
       "  </tbody>\n",
       "</table>\n",
       "</div>"
      ],
      "text/plain": [
       "       first      last                    job               phone  \\\n",
       "0     Donald   Harding           Immunologist  793-904-7725x39308   \n",
       "1    Tiffany     Myers        Music therapist    201.442.4543x942   \n",
       "2    Shannon    Watson           Immunologist   687.737.9424x8503   \n",
       "3     Nathan     Baker  Accounting technician    827-788-8123x012   \n",
       "4  Christina  Schwartz           Chiropractor        265-829-3643   \n",
       "\n",
       "                                 email  client_id  order_id  order_date  \\\n",
       "0     harding.donald.7185@sullivan.com      58515   8953482  2023-04-28   \n",
       "1    myers.t.6537@ferguson-johnson.net      37609   8069089  2023-05-19   \n",
       "2                swatson8146@payne.net      57113   1902144  2023-01-29   \n",
       "3               bakernathan@benson.com      46554   9031802  2023-04-25   \n",
       "4  christinaschwartz9252@mcconnell.com      92089   1322274  2023-05-28   \n",
       "\n",
       "   order_week  order_year         item_id     category         subcategory  \\\n",
       "0          17        2023  EUD29711-63-6U        decor            wall art   \n",
       "1          20        2023  XDA18116-89-4A  consumables                pens   \n",
       "2           4        2023  ABE59463-05-7E     software  project management   \n",
       "3          17        2023  ZMM00836-65-0C  consumables                pens   \n",
       "4          21        2023  BZX55559-12-3X  consumables                misc   \n",
       "\n",
       "   unit_price  unit_cost  unit_weight  qty  line_number  \n",
       "0     1096.80     762.71         7.50  105            1  \n",
       "1       24.95      15.09         1.49   21            0  \n",
       "2       13.52       7.86         1.68   39            6  \n",
       "3       36.42      24.85         1.23   29            3  \n",
       "4      195.10     108.17        46.43   20            1  "
      ]
     },
     "execution_count": 1,
     "metadata": {},
     "output_type": "execute_result"
    }
   ],
   "source": [
    "import pandas as pd\n",
    "\n",
    "df = pd.read_csv('Resources/client_dataset.csv')\n",
    "df.head()"
   ]
  },
  {
   "cell_type": "code",
   "execution_count": 2,
   "id": "71b9bbd2",
   "metadata": {},
   "outputs": [
    {
     "name": "stdout",
     "output_type": "stream",
     "text": [
      "Index(['first', 'last', 'job', 'phone', 'email', 'client_id', 'order_id',\n",
      "       'order_date', 'order_week', 'order_year', 'item_id', 'category',\n",
      "       'subcategory', 'unit_price', 'unit_cost', 'unit_weight', 'qty',\n",
      "       'line_number'],\n",
      "      dtype='object')\n"
     ]
    }
   ],
   "source": [
    "# View the column names in the data\n",
    "print(df.columns)"
   ]
  },
  {
   "cell_type": "code",
   "execution_count": 3,
   "id": "bc0f4172",
   "metadata": {},
   "outputs": [
    {
     "name": "stdout",
     "output_type": "stream",
     "text": [
      "          client_id      order_id    order_week    order_year    unit_price  \\\n",
      "count  54639.000000  5.463900e+04  54639.000000  54639.000000  54639.000000   \n",
      "mean   54837.869416  5.470190e+06     11.359139   2022.993064    136.267207   \n",
      "std    25487.438231  2.599807e+06      7.023499      0.082997    183.873135   \n",
      "min    10033.000000  1.000886e+06      1.000000   2022.000000      0.010000   \n",
      "25%    33593.000000  3.196372e+06      6.000000   2023.000000     20.800000   \n",
      "50%    53305.000000  5.496966e+06     11.000000   2023.000000     68.310000   \n",
      "75%    78498.000000  7.733869e+06     17.000000   2023.000000    173.160000   \n",
      "max    99984.000000  9.998480e+06     52.000000   2023.000000   1396.230000   \n",
      "\n",
      "          unit_cost   unit_weight           qty   line_number  \n",
      "count  54639.000000  54639.000000  5.463900e+04  54639.000000  \n",
      "mean      99.446073      5.004116  5.702646e+02      2.979667  \n",
      "std      133.164267      5.326599  1.879552e+04      2.436320  \n",
      "min        0.010000      0.000000  0.000000e+00      0.000000  \n",
      "25%       14.840000      1.450000  3.200000e+01      1.000000  \n",
      "50%       49.890000      3.240000  6.800000e+01      3.000000  \n",
      "75%      125.570000      6.890000  1.700000e+02      5.000000  \n",
      "max      846.270000     46.430000  3.958244e+06      9.000000  \n"
     ]
    }
   ],
   "source": [
    "# Use the describe function to gather some basic statistics\n",
    "stats = df.describe()\n",
    "print(stats)"
   ]
  },
  {
   "cell_type": "code",
   "execution_count": 4,
   "id": "b24b53cc",
   "metadata": {},
   "outputs": [],
   "source": [
    "# Use this space to do any additional research\n",
    "# and familiarize yourself with the data.\n"
   ]
  },
  {
   "cell_type": "code",
   "execution_count": 5,
   "id": "551cb358",
   "metadata": {},
   "outputs": [
    {
     "name": "stdout",
     "output_type": "stream",
     "text": [
      "category\n",
      "consumables    23538\n",
      "furniture      11915\n",
      "software        8400\n",
      "Name: count, dtype: int64\n"
     ]
    }
   ],
   "source": [
    "# What three item categories had the most entries?\n",
    "top_three_categories = df['category'].value_counts().head(3)\n",
    "print(top_three_categories)"
   ]
  },
  {
   "cell_type": "code",
   "execution_count": 6,
   "id": "5f54e2cf",
   "metadata": {},
   "outputs": [
    {
     "name": "stdout",
     "output_type": "stream",
     "text": [
      "subcategory\n",
      "bathroom supplies    6424\n",
      "Name: count, dtype: int64\n"
     ]
    }
   ],
   "source": [
    "# For the category with the most entries, which subcategory had the most entries?\n",
    "\n",
    "most_common_category = df['category'].value_counts().idxmax()\n",
    "\n",
    "filtered_df = df[df['category'] == most_common_category]\n",
    "\n",
    "sub_category_counts = filtered_df['subcategory'].value_counts()\n",
    "\n",
    "most_common_subcategory = sub_category_counts.head(1)\n",
    "\n",
    "\n",
    "print(most_common_subcategory)\n",
    "\n"
   ]
  },
  {
   "cell_type": "code",
   "execution_count": 7,
   "id": "2db94379",
   "metadata": {},
   "outputs": [
    {
     "name": "stdout",
     "output_type": "stream",
     "text": [
      "client_id\n",
      "33615    220\n",
      "66037    211\n",
      "46820    209\n",
      "38378    207\n",
      "24741    207\n",
      "Name: count, dtype: int64\n"
     ]
    }
   ],
   "source": [
    "# Which five clients had the most entries in the data?\n",
    "\n",
    "\n",
    "client_counts = df['client_id'].value_counts()\n",
    "\n",
    "top_five_clients = client_counts.head(5)\n",
    "\n",
    "print(top_five_clients)"
   ]
  },
  {
   "cell_type": "code",
   "execution_count": 8,
   "id": "a6635601",
   "metadata": {},
   "outputs": [
    {
     "name": "stdout",
     "output_type": "stream",
     "text": [
      "[33615, 66037, 46820, 38378, 24741]\n"
     ]
    }
   ],
   "source": [
    "# Store the client ids of those top 5 clients in a list.\n",
    "\n",
    "\n",
    "client_counts = df['client_id'].value_counts()\n",
    "\n",
    "top_five_clients = client_counts.head(5)\n",
    "\n",
    "top_five_client_ids = top_five_clients.index.tolist()\n",
    "\n",
    "print(top_five_client_ids)"
   ]
  },
  {
   "cell_type": "code",
   "execution_count": 9,
   "id": "c88b8a3e",
   "metadata": {},
   "outputs": [
    {
     "name": "stdout",
     "output_type": "stream",
     "text": [
      "Total units ordered by the client with the most entries (client_id: 33615): 64313\n"
     ]
    }
   ],
   "source": [
    "# How many total units (the qty column) did the client with the most entries order order?\n",
    "\n",
    "most_common_client_id = df['client_id'].value_counts().idxmax()\n",
    "\n",
    "filtered_df = df[df['client_id'] == most_common_client_id]\n",
    "\n",
    "total_units_ordered = filtered_df['qty'].sum()\n",
    "\n",
    "print(f\"Total units ordered by the client with the most entries (client_id: {most_common_client_id}): {total_units_ordered}\")"
   ]
  },
  {
   "cell_type": "markdown",
   "id": "257fcd7d",
   "metadata": {},
   "source": [
    "## Part 2: Transform the Data\n",
    "Do we know that this client spent the more money than client 66037? If not, how would we find out? Transform the data using the steps below to prepare it for analysis."
   ]
  },
  {
   "cell_type": "code",
   "execution_count": 22,
   "id": "0c25c4a8",
   "metadata": {
    "scrolled": true
   },
   "outputs": [
    {
     "data": {
      "text/html": [
       "<div>\n",
       "<style scoped>\n",
       "    .dataframe tbody tr th:only-of-type {\n",
       "        vertical-align: middle;\n",
       "    }\n",
       "\n",
       "    .dataframe tbody tr th {\n",
       "        vertical-align: top;\n",
       "    }\n",
       "\n",
       "    .dataframe thead th {\n",
       "        text-align: right;\n",
       "    }\n",
       "</style>\n",
       "<table border=\"1\" class=\"dataframe\">\n",
       "  <thead>\n",
       "    <tr style=\"text-align: right;\">\n",
       "      <th></th>\n",
       "      <th>unit_price</th>\n",
       "      <th>qty</th>\n",
       "      <th>line_subtotal</th>\n",
       "    </tr>\n",
       "  </thead>\n",
       "  <tbody>\n",
       "    <tr>\n",
       "      <th>0</th>\n",
       "      <td>1096.80</td>\n",
       "      <td>105</td>\n",
       "      <td>115164.00</td>\n",
       "    </tr>\n",
       "    <tr>\n",
       "      <th>1</th>\n",
       "      <td>24.95</td>\n",
       "      <td>21</td>\n",
       "      <td>523.95</td>\n",
       "    </tr>\n",
       "    <tr>\n",
       "      <th>2</th>\n",
       "      <td>13.52</td>\n",
       "      <td>39</td>\n",
       "      <td>527.28</td>\n",
       "    </tr>\n",
       "    <tr>\n",
       "      <th>3</th>\n",
       "      <td>36.42</td>\n",
       "      <td>29</td>\n",
       "      <td>1056.18</td>\n",
       "    </tr>\n",
       "    <tr>\n",
       "      <th>4</th>\n",
       "      <td>195.10</td>\n",
       "      <td>20</td>\n",
       "      <td>3902.00</td>\n",
       "    </tr>\n",
       "  </tbody>\n",
       "</table>\n",
       "</div>"
      ],
      "text/plain": [
       "   unit_price  qty  line_subtotal\n",
       "0     1096.80  105      115164.00\n",
       "1       24.95   21         523.95\n",
       "2       13.52   39         527.28\n",
       "3       36.42   29        1056.18\n",
       "4      195.10   20        3902.00"
      ]
     },
     "execution_count": 22,
     "metadata": {},
     "output_type": "execute_result"
    }
   ],
   "source": [
    "# Create a column that calculates the subtotal for each line using the unit_price and the qty\n",
    "\n",
    "df['line_subtotal'] = df['unit_price'] * df['qty']\n",
    "\n",
    "df[[\"unit_price\", \"qty\", \"line_subtotal\"]].head(5)"
   ]
  },
  {
   "cell_type": "code",
   "execution_count": 24,
   "id": "ac9dafc8",
   "metadata": {},
   "outputs": [
    {
     "data": {
      "text/html": [
       "<div>\n",
       "<style scoped>\n",
       "    .dataframe tbody tr th:only-of-type {\n",
       "        vertical-align: middle;\n",
       "    }\n",
       "\n",
       "    .dataframe tbody tr th {\n",
       "        vertical-align: top;\n",
       "    }\n",
       "\n",
       "    .dataframe thead th {\n",
       "        text-align: right;\n",
       "    }\n",
       "</style>\n",
       "<table border=\"1\" class=\"dataframe\">\n",
       "  <thead>\n",
       "    <tr style=\"text-align: right;\">\n",
       "      <th></th>\n",
       "      <th>unit_price</th>\n",
       "      <th>unit_weight</th>\n",
       "      <th>qty</th>\n",
       "      <th>total_weight</th>\n",
       "      <th>shipping_price</th>\n",
       "    </tr>\n",
       "  </thead>\n",
       "  <tbody>\n",
       "    <tr>\n",
       "      <th>0</th>\n",
       "      <td>1096.80</td>\n",
       "      <td>7.50</td>\n",
       "      <td>105</td>\n",
       "      <td>787.50</td>\n",
       "      <td>5512.50</td>\n",
       "    </tr>\n",
       "    <tr>\n",
       "      <th>1</th>\n",
       "      <td>24.95</td>\n",
       "      <td>1.49</td>\n",
       "      <td>21</td>\n",
       "      <td>31.29</td>\n",
       "      <td>312.90</td>\n",
       "    </tr>\n",
       "    <tr>\n",
       "      <th>2</th>\n",
       "      <td>13.52</td>\n",
       "      <td>1.68</td>\n",
       "      <td>39</td>\n",
       "      <td>65.52</td>\n",
       "      <td>458.64</td>\n",
       "    </tr>\n",
       "    <tr>\n",
       "      <th>3</th>\n",
       "      <td>36.42</td>\n",
       "      <td>1.23</td>\n",
       "      <td>29</td>\n",
       "      <td>35.67</td>\n",
       "      <td>356.70</td>\n",
       "    </tr>\n",
       "    <tr>\n",
       "      <th>4</th>\n",
       "      <td>195.10</td>\n",
       "      <td>46.43</td>\n",
       "      <td>20</td>\n",
       "      <td>928.60</td>\n",
       "      <td>6500.20</td>\n",
       "    </tr>\n",
       "  </tbody>\n",
       "</table>\n",
       "</div>"
      ],
      "text/plain": [
       "   unit_price  unit_weight  qty  total_weight  shipping_price\n",
       "0     1096.80         7.50  105        787.50         5512.50\n",
       "1       24.95         1.49   21         31.29          312.90\n",
       "2       13.52         1.68   39         65.52          458.64\n",
       "3       36.42         1.23   29         35.67          356.70\n",
       "4      195.10        46.43   20        928.60         6500.20"
      ]
     },
     "execution_count": 24,
     "metadata": {},
     "output_type": "execute_result"
    }
   ],
   "source": [
    "# Create a column for shipping price.\n",
    "# Assume a shipping price of $7 per pound for orders over 50 pounds and $10 per pound for items 50 pounds or under.\n",
    "\n",
    "df['total_weight'] = df['unit_weight'] * df['qty']\n",
    "\n",
    "df['shipping_price'] = df['total_weight'].apply(lambda x: 7 * x if x > 50 else 10 * x)\n",
    "\n",
    "df[[\"unit_price\", \"unit_weight\", \"qty\", \"total_weight\", \"shipping_price\"]].head(5)"
   ]
  },
  {
   "cell_type": "code",
   "execution_count": 25,
   "id": "77f42c67",
   "metadata": {},
   "outputs": [
    {
     "data": {
      "text/html": [
       "<div>\n",
       "<style scoped>\n",
       "    .dataframe tbody tr th:only-of-type {\n",
       "        vertical-align: middle;\n",
       "    }\n",
       "\n",
       "    .dataframe tbody tr th {\n",
       "        vertical-align: top;\n",
       "    }\n",
       "\n",
       "    .dataframe thead th {\n",
       "        text-align: right;\n",
       "    }\n",
       "</style>\n",
       "<table border=\"1\" class=\"dataframe\">\n",
       "  <thead>\n",
       "    <tr style=\"text-align: right;\">\n",
       "      <th></th>\n",
       "      <th>line_subtotal</th>\n",
       "      <th>shipping_price</th>\n",
       "      <th>line_price</th>\n",
       "    </tr>\n",
       "  </thead>\n",
       "  <tbody>\n",
       "    <tr>\n",
       "      <th>0</th>\n",
       "      <td>115164.00</td>\n",
       "      <td>5512.50</td>\n",
       "      <td>131839.076250</td>\n",
       "    </tr>\n",
       "    <tr>\n",
       "      <th>1</th>\n",
       "      <td>523.95</td>\n",
       "      <td>312.90</td>\n",
       "      <td>914.258625</td>\n",
       "    </tr>\n",
       "    <tr>\n",
       "      <th>2</th>\n",
       "      <td>527.28</td>\n",
       "      <td>458.64</td>\n",
       "      <td>1077.117600</td>\n",
       "    </tr>\n",
       "    <tr>\n",
       "      <th>3</th>\n",
       "      <td>1056.18</td>\n",
       "      <td>356.70</td>\n",
       "      <td>1543.571400</td>\n",
       "    </tr>\n",
       "    <tr>\n",
       "      <th>4</th>\n",
       "      <td>3902.00</td>\n",
       "      <td>6500.20</td>\n",
       "      <td>11364.403500</td>\n",
       "    </tr>\n",
       "  </tbody>\n",
       "</table>\n",
       "</div>"
      ],
      "text/plain": [
       "   line_subtotal  shipping_price     line_price\n",
       "0      115164.00         5512.50  131839.076250\n",
       "1         523.95          312.90     914.258625\n",
       "2         527.28          458.64    1077.117600\n",
       "3        1056.18          356.70    1543.571400\n",
       "4        3902.00         6500.20   11364.403500"
      ]
     },
     "execution_count": 25,
     "metadata": {},
     "output_type": "execute_result"
    }
   ],
   "source": [
    "# Create a column for the total price using the subtotal and the shipping price along with a sales tax of 9.25%\n",
    "\n",
    "sales_tax_rate = 9.25 / 100\n",
    "\n",
    "df['line_price'] = df.apply(lambda row: (row['line_subtotal'] + row['shipping_price']) * (1 + sales_tax_rate), axis=1)\n",
    "\n",
    "df[[\"line_subtotal\", \"shipping_price\", \"line_price\"]].head(5)"
   ]
  },
  {
   "cell_type": "code",
   "execution_count": 20,
   "id": "c82ad275",
   "metadata": {},
   "outputs": [],
   "source": [
    "# Create a column for the cost of each line using unit cost, qty, and\n",
    "# shipping price (assume the shipping cost is exactly what is charged to the client).\n",
    "\n",
    "\n",
    "df['line_cost'] = (df['unit_cost'] * df['qty']) + df['shipping_price']\n",
    "\n"
   ]
  },
  {
   "cell_type": "code",
   "execution_count": 26,
   "id": "e2389018",
   "metadata": {},
   "outputs": [
    {
     "data": {
      "text/html": [
       "<div>\n",
       "<style scoped>\n",
       "    .dataframe tbody tr th:only-of-type {\n",
       "        vertical-align: middle;\n",
       "    }\n",
       "\n",
       "    .dataframe tbody tr th {\n",
       "        vertical-align: top;\n",
       "    }\n",
       "\n",
       "    .dataframe thead th {\n",
       "        text-align: right;\n",
       "    }\n",
       "</style>\n",
       "<table border=\"1\" class=\"dataframe\">\n",
       "  <thead>\n",
       "    <tr style=\"text-align: right;\">\n",
       "      <th></th>\n",
       "      <th>unit_cost</th>\n",
       "      <th>qty</th>\n",
       "      <th>shipping_price</th>\n",
       "      <th>line_cost</th>\n",
       "      <th>line_price</th>\n",
       "      <th>line_profit</th>\n",
       "    </tr>\n",
       "  </thead>\n",
       "  <tbody>\n",
       "    <tr>\n",
       "      <th>0</th>\n",
       "      <td>762.71</td>\n",
       "      <td>105</td>\n",
       "      <td>5512.50</td>\n",
       "      <td>85597.05</td>\n",
       "      <td>131839.076250</td>\n",
       "      <td>46242.026250</td>\n",
       "    </tr>\n",
       "    <tr>\n",
       "      <th>1</th>\n",
       "      <td>15.09</td>\n",
       "      <td>21</td>\n",
       "      <td>312.90</td>\n",
       "      <td>629.79</td>\n",
       "      <td>914.258625</td>\n",
       "      <td>284.468625</td>\n",
       "    </tr>\n",
       "    <tr>\n",
       "      <th>2</th>\n",
       "      <td>7.86</td>\n",
       "      <td>39</td>\n",
       "      <td>458.64</td>\n",
       "      <td>765.18</td>\n",
       "      <td>1077.117600</td>\n",
       "      <td>311.937600</td>\n",
       "    </tr>\n",
       "    <tr>\n",
       "      <th>3</th>\n",
       "      <td>24.85</td>\n",
       "      <td>29</td>\n",
       "      <td>356.70</td>\n",
       "      <td>1077.35</td>\n",
       "      <td>1543.571400</td>\n",
       "      <td>466.221400</td>\n",
       "    </tr>\n",
       "    <tr>\n",
       "      <th>4</th>\n",
       "      <td>108.17</td>\n",
       "      <td>20</td>\n",
       "      <td>6500.20</td>\n",
       "      <td>8663.60</td>\n",
       "      <td>11364.403500</td>\n",
       "      <td>2700.803500</td>\n",
       "    </tr>\n",
       "  </tbody>\n",
       "</table>\n",
       "</div>"
      ],
      "text/plain": [
       "   unit_cost  qty  shipping_price  line_cost     line_price   line_profit\n",
       "0     762.71  105         5512.50   85597.05  131839.076250  46242.026250\n",
       "1      15.09   21          312.90     629.79     914.258625    284.468625\n",
       "2       7.86   39          458.64     765.18    1077.117600    311.937600\n",
       "3      24.85   29          356.70    1077.35    1543.571400    466.221400\n",
       "4     108.17   20         6500.20    8663.60   11364.403500   2700.803500"
      ]
     },
     "execution_count": 26,
     "metadata": {},
     "output_type": "execute_result"
    }
   ],
   "source": [
    "# Create a column for the profit of each line using line cost and line price\n",
    "\n",
    "df['line_profit'] = df['line_price'] - df['line_cost']\n",
    "\n",
    "df[[\"unit_cost\", \"qty\", \"shipping_price\", \"line_cost\", \"line_price\", \"line_profit\"]].head(5)"
   ]
  },
  {
   "cell_type": "markdown",
   "id": "ef6f62b1",
   "metadata": {},
   "source": [
    "## Part 3: Confirm your work\n",
    "You have email receipts showing that the total prices for 3 orders. Confirm that your calculations match the receipts. Remember, each order has multiple lines.\n",
    "\n",
    "Order ID 2742071 had a total price of \\$152,811.89\n",
    "\n",
    "Order ID 2173913 had a total price of \\$162,388.71\n",
    "\n",
    "Order ID 6128929 had a total price of \\$923,441.25\n"
   ]
  },
  {
   "cell_type": "code",
   "execution_count": 33,
   "id": "c0e5d68e",
   "metadata": {},
   "outputs": [
    {
     "name": "stdout",
     "output_type": "stream",
     "text": [
      "Order ID 2742071: Calculated total $152811.90 matches the receipt total $152811.89\n",
      "Order ID 2173913: Calculated total $162388.72 matches the receipt total $162388.71\n",
      "Order ID 6128929: Calculated total $923441.24 matches the receipt total $923441.25\n"
     ]
    }
   ],
   "source": [
    "# Check your work using the totals above\n",
    "\n",
    "receipts = {\n",
    "    2742071: 152811.89,\n",
    "    2173913: 162388.71,\n",
    "    6128929: 923441.25\n",
    "}\n",
    "\n",
    "for order_id, expected_total in receipts.items():\n",
    "    calculated_total = order_totals.get(order_id, 0)\n",
    "    if abs(calculated_total - expected_total) < 0.01:  # Allowing a small margin for floating-point precision\n",
    "        result = 'matches'\n",
    "    else:\n",
    "        result = 'does not match'\n",
    "    print(f\"Order ID {order_id}: Calculated total ${calculated_total:.2f} {result} the receipt total ${expected_total:.2f}\")"
   ]
  },
  {
   "cell_type": "markdown",
   "id": "b94d58ab",
   "metadata": {},
   "source": [
    "## Part 4: Summarize and Analyze\n",
    "Use the new columns with confirmed values to find the following information."
   ]
  },
  {
   "cell_type": "code",
   "execution_count": 30,
   "id": "7c005f34",
   "metadata": {},
   "outputs": [
    {
     "name": "stdout",
     "output_type": "stream",
     "text": [
      "client_id\n",
      "30143    3.332885e+07\n",
      "77354    7.194265e+07\n",
      "78965    6.559237e+08\n",
      "85931    2.374170e+08\n",
      "86721    1.812663e+08\n",
      "Name: line_price, dtype: float64\n"
     ]
    }
   ],
   "source": [
    "# How much did each of the top 5 clients by quantity spend? Check your work from Part 1 for client ids.\n",
    "\n",
    "top_clients = df.groupby('client_id')['qty'].sum().nlargest(5).index\n",
    "\n",
    "total_spent_by_top_clients = df[df['client_id'].isin(top_clients)].groupby('client_id')['line_price'].sum()\n",
    "\n",
    "print(total_spent_by_top_clients)"
   ]
  },
  {
   "cell_type": "code",
   "execution_count": null,
   "id": "81b6e4d2",
   "metadata": {},
   "outputs": [],
   "source": [
    "# Create a summary DataFrame showing the totals for the for the top 5 clients with the following information:\n",
    "# total units purchased, total shipping price, total revenue, and total profit. \n"
   ]
  },
  {
   "cell_type": "code",
   "execution_count": null,
   "id": "7be02867",
   "metadata": {},
   "outputs": [],
   "source": [
    "# Format the data and rename the columns to names suitable for presentation.\n",
    "\n",
    "# Define the money columns. \n",
    "\n",
    "\n",
    "# Define a function that converts a dollar amount to millions.\n",
    "\n",
    "\n",
    "# Apply the currency_format_millions function to only the money columns. \n",
    "\n",
    "\n",
    "# Rename the columns to reflect the change in the money format. \n",
    "\n",
    "\n"
   ]
  },
  {
   "cell_type": "code",
   "execution_count": null,
   "id": "8ead0986",
   "metadata": {},
   "outputs": [],
   "source": [
    "# Sort the updated data by \"Total Profit (millions)\" form highest to lowest and assign the sort to a new DatFrame.\n"
   ]
  },
  {
   "cell_type": "code",
   "execution_count": null,
   "id": "87e0e7f8-b60e-4e50-ab07-c36b6deed513",
   "metadata": {},
   "outputs": [],
   "source": []
  }
 ],
 "metadata": {
  "kernelspec": {
   "display_name": "Python 3 (ipykernel)",
   "language": "python",
   "name": "python3"
  },
  "language_info": {
   "codemirror_mode": {
    "name": "ipython",
    "version": 3
   },
   "file_extension": ".py",
   "mimetype": "text/x-python",
   "name": "python",
   "nbconvert_exporter": "python",
   "pygments_lexer": "ipython3",
   "version": "3.11.9"
  }
 },
 "nbformat": 4,
 "nbformat_minor": 5
}
